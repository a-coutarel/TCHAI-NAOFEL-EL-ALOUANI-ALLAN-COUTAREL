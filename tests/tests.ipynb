{
 "cells": [
  {
   "cell_type": "markdown",
   "metadata": {},
   "source": [
    "# Exercice 4: Attaquer le système en modifiant directement le fichier de données, en changeant le montant d’une transaction.\n"
   ]
  },
  {
   "cell_type": "code",
   "execution_count": 1,
   "metadata": {},
   "outputs": [],
   "source": [
    "import os\n",
    "current_dir = os.getcwd()\n",
    "new_dir = current_dir.replace(\"\\\\tests\", \"\")\n",
    "os.chdir(new_dir)\n",
    "from services.transaction_service import TransactionService\n",
    "from services.person_service import PersonService"
   ]
  },
  {
   "cell_type": "code",
   "execution_count": 3,
   "metadata": {},
   "outputs": [],
   "source": [
    "# Init\n",
    "\n",
    "person_service = PersonService()\n",
    "transaction_service = TransactionService()\n",
    "\n",
    "\n",
    "if person_service.is_persons_empty():\n",
    "    person_service.add_person(\"John\", \"Doe\", \"1990-01-01\", 1500.0)\n",
    "    person_service.add_person(\"Jane\", \"Dupont\", \"1990-01-01\", 780.0)\n",
    "if transaction_service.is_transactions_empty():\n",
    "    if not transaction_service.add_transaction(1, 2, 150.0):\n",
    "        raise Exception(\"Transaction failed\")"
   ]
  },
  {
   "cell_type": "code",
   "execution_count": 4,
   "metadata": {},
   "outputs": [
    {
     "name": "stdout",
     "output_type": "stream",
     "text": [
      " 1dd3c39cdbfe268ab759d8f24d537471f27a8b1853451c42407f644db9bc1d78 2023-12-04 16:30:10.604911 - (id: 1) John Doe 1350.0€ -> (id: 2) Jane Dupont 930.0€: 150.0€\n"
     ]
    }
   ],
   "source": [
    "# Old transaction value\n",
    "transaction_service = TransactionService()\n",
    "transaction = transaction_service.get_transaction(1)\n",
    "print(transaction)"
   ]
  },
  {
   "cell_type": "code",
   "execution_count": 5,
   "metadata": {},
   "outputs": [],
   "source": [
    "# Update transaction amount\n",
    "transaction.amount = 1000\n",
    "transaction_service.update_transaction(transaction)"
   ]
  },
  {
   "cell_type": "code",
   "execution_count": 6,
   "metadata": {},
   "outputs": [
    {
     "ename": "Exception",
     "evalue": "Hashes do not match",
     "output_type": "error",
     "traceback": [
      "\u001b[1;31m---------------------------------------------------------------------------\u001b[0m",
      "\u001b[1;31mException\u001b[0m                                 Traceback (most recent call last)",
      "\u001b[1;32mc:\\Users\\Naofel\\Documents\\ESIREM\\5A\\Systeme_informations_avances\\TP\\TCHAI-NAOFEL-EL-ALOUANI-ALLAN-COUTAREL\\tests\\tests.ipynb Cell 6\u001b[0m line \u001b[0;36m2\n\u001b[0;32m      <a href='vscode-notebook-cell:/c%3A/Users/Naofel/Documents/ESIREM/5A/Systeme_informations_avances/TP/TCHAI-NAOFEL-EL-ALOUANI-ALLAN-COUTAREL/tests/tests.ipynb#X16sZmlsZQ%3D%3D?line=0'>1</a>\u001b[0m \u001b[39m# New transaction value\u001b[39;00m\n\u001b[1;32m----> <a href='vscode-notebook-cell:/c%3A/Users/Naofel/Documents/ESIREM/5A/Systeme_informations_avances/TP/TCHAI-NAOFEL-EL-ALOUANI-ALLAN-COUTAREL/tests/tests.ipynb#X16sZmlsZQ%3D%3D?line=1'>2</a>\u001b[0m transaction \u001b[39m=\u001b[39m transaction_service\u001b[39m.\u001b[39;49mget_transaction(\u001b[39m1\u001b[39;49m)\n\u001b[0;32m      <a href='vscode-notebook-cell:/c%3A/Users/Naofel/Documents/ESIREM/5A/Systeme_informations_avances/TP/TCHAI-NAOFEL-EL-ALOUANI-ALLAN-COUTAREL/tests/tests.ipynb#X16sZmlsZQ%3D%3D?line=2'>3</a>\u001b[0m \u001b[39mprint\u001b[39m(transaction)\n",
      "File \u001b[1;32mc:\\Users\\Naofel\\Documents\\ESIREM\\5A\\Systeme_informations_avances\\TP\\TCHAI-NAOFEL-EL-ALOUANI-ALLAN-COUTAREL\\services\\transaction_service.py:36\u001b[0m, in \u001b[0;36mTransactionService.get_transaction\u001b[1;34m(self, transaction_id)\u001b[0m\n\u001b[0;32m     34\u001b[0m \u001b[39mself\u001b[39m\u001b[39m.\u001b[39mcursor\u001b[39m.\u001b[39mexecute(\u001b[39m\"\u001b[39m\u001b[39mSELECT * FROM transactions WHERE id = ?\u001b[39m\u001b[39m\"\u001b[39m, (transaction_id,))\n\u001b[0;32m     35\u001b[0m transaction \u001b[39m=\u001b[39m \u001b[39mself\u001b[39m\u001b[39m.\u001b[39mcursor\u001b[39m.\u001b[39mfetchone()\n\u001b[1;32m---> 36\u001b[0m \u001b[39mreturn\u001b[39;00m \u001b[39mself\u001b[39;49m\u001b[39m.\u001b[39;49mget_transaction_from_tuple(transaction)\n",
      "File \u001b[1;32mc:\\Users\\Naofel\\Documents\\ESIREM\\5A\\Systeme_informations_avances\\TP\\TCHAI-NAOFEL-EL-ALOUANI-ALLAN-COUTAREL\\services\\transaction_service.py:108\u001b[0m, in \u001b[0;36mTransactionService.get_transaction_from_tuple\u001b[1;34m(self, tuple)\u001b[0m\n\u001b[0;32m    106\u001b[0m Person1 \u001b[39m=\u001b[39m person_service\u001b[39m.\u001b[39mget_person(\u001b[39mtuple\u001b[39m[\u001b[39m1\u001b[39m])\n\u001b[0;32m    107\u001b[0m Person2 \u001b[39m=\u001b[39m person_service\u001b[39m.\u001b[39mget_person(\u001b[39mtuple\u001b[39m[\u001b[39m2\u001b[39m])\n\u001b[1;32m--> 108\u001b[0m \u001b[39mreturn\u001b[39;00m Transaction(\u001b[39mtuple\u001b[39;49m[\u001b[39m0\u001b[39;49m], Person1, Person2, \u001b[39mtuple\u001b[39;49m[\u001b[39m3\u001b[39;49m], \u001b[39mtuple\u001b[39;49m[\u001b[39m4\u001b[39;49m], \u001b[39mtuple\u001b[39;49m[\u001b[39m5\u001b[39;49m])\n",
      "File \u001b[1;32mc:\\Users\\Naofel\\Documents\\ESIREM\\5A\\Systeme_informations_avances\\TP\\TCHAI-NAOFEL-EL-ALOUANI-ALLAN-COUTAREL\\models\\transaction.py:19\u001b[0m, in \u001b[0;36mTransaction.__init__\u001b[1;34m(self, id, p1, p2, amount, time, hash)\u001b[0m\n\u001b[0;32m     17\u001b[0m         \u001b[39mself\u001b[39m\u001b[39m.\u001b[39mhash \u001b[39m=\u001b[39m \u001b[39mhash\u001b[39m\n\u001b[0;32m     18\u001b[0m     \u001b[39melse\u001b[39;00m:\n\u001b[1;32m---> 19\u001b[0m         \u001b[39mraise\u001b[39;00m \u001b[39mException\u001b[39;00m(\u001b[39m\"\u001b[39m\u001b[39mHashes do not match\u001b[39m\u001b[39m\"\u001b[39m)\n\u001b[0;32m     20\u001b[0m \u001b[39melse\u001b[39;00m:\n\u001b[0;32m     21\u001b[0m     \u001b[39mself\u001b[39m\u001b[39m.\u001b[39mhash \u001b[39m=\u001b[39m hashlib\u001b[39m.\u001b[39msha256(data)\u001b[39m.\u001b[39mhexdigest()\n",
      "\u001b[1;31mException\u001b[0m: Hashes do not match"
     ]
    }
   ],
   "source": [
    "# New transaction value\n",
    "transaction = transaction_service.get_transaction(1)\n",
    "print(transaction)"
   ]
  },
  {
   "cell_type": "markdown",
   "metadata": {},
   "source": [
    "# Exercice 7. Vérifiez que l’attaque précédente ne fonctionne plus."
   ]
  },
  {
   "cell_type": "code",
   "execution_count": 3,
   "metadata": {},
   "outputs": [],
   "source": [
    "import os\n",
    "current_dir = os.getcwd()\n",
    "new_dir = current_dir.replace(\"\\\\tests\", \"\")\n",
    "os.chdir(new_dir)\n",
    "from services.transaction_service import TransactionService\n",
    "from services.person_service import PersonService"
   ]
  },
  {
   "cell_type": "code",
   "execution_count": 4,
   "metadata": {},
   "outputs": [],
   "source": [
    "# Init\n",
    "\n",
    "person_service = PersonService()\n",
    "transaction_service = TransactionService()\n",
    "\n",
    "\n",
    "if person_service.is_persons_empty():\n",
    "    person_service.add_person(\"John\", \"Doe\", \"1990-01-01\", 1500.0)\n",
    "    person_service.add_person(\"Jane\", \"Dupont\", \"1990-01-01\", 780.0)\n",
    "if transaction_service.is_transactions_empty():\n",
    "    if not transaction_service.add_transaction(1, 2, 150.0):\n",
    "        raise Exception(\"Transaction failed\")"
   ]
  },
  {
   "cell_type": "code",
   "execution_count": 5,
   "metadata": {},
   "outputs": [
    {
     "name": "stdout",
     "output_type": "stream",
     "text": [
      " 96a6b5fd6a4e42b2119d0d4d1655297f84b7ae4414fb76aac2f97a0683bff9a1 2023-12-04 16:32:40.520510 - (id: 1) John Doe 1350.0€ -> (id: 2) Jane Dupont 930.0€: 150.0€\n"
     ]
    }
   ],
   "source": [
    "# Old transaction value\n",
    "transaction_service = TransactionService()\n",
    "transaction = transaction_service.get_transaction(1)\n",
    "print(transaction)"
   ]
  },
  {
   "cell_type": "code",
   "execution_count": 6,
   "metadata": {},
   "outputs": [],
   "source": [
    "# Update transaction amount\n",
    "transaction.amount = 1000\n",
    "transaction_service.update_transaction(transaction)"
   ]
  },
  {
   "cell_type": "code",
   "execution_count": 7,
   "metadata": {},
   "outputs": [
    {
     "ename": "Exception",
     "evalue": "Hashes do not match",
     "output_type": "error",
     "traceback": [
      "\u001b[1;31m---------------------------------------------------------------------------\u001b[0m",
      "\u001b[1;31mException\u001b[0m                                 Traceback (most recent call last)",
      "\u001b[1;32mc:\\Users\\Naofel\\Documents\\ESIREM\\5A\\Systeme_informations_avances\\TP\\TCHAI-NAOFEL-EL-ALOUANI-ALLAN-COUTAREL\\tests\\tests.ipynb Cell 12\u001b[0m line \u001b[0;36m2\n\u001b[0;32m      <a href='vscode-notebook-cell:/c%3A/Users/Naofel/Documents/ESIREM/5A/Systeme_informations_avances/TP/TCHAI-NAOFEL-EL-ALOUANI-ALLAN-COUTAREL/tests/tests.ipynb#X24sZmlsZQ%3D%3D?line=0'>1</a>\u001b[0m \u001b[39m# New transaction value\u001b[39;00m\n\u001b[1;32m----> <a href='vscode-notebook-cell:/c%3A/Users/Naofel/Documents/ESIREM/5A/Systeme_informations_avances/TP/TCHAI-NAOFEL-EL-ALOUANI-ALLAN-COUTAREL/tests/tests.ipynb#X24sZmlsZQ%3D%3D?line=1'>2</a>\u001b[0m transaction \u001b[39m=\u001b[39m transaction_service\u001b[39m.\u001b[39;49mget_transaction(\u001b[39m1\u001b[39;49m)\n\u001b[0;32m      <a href='vscode-notebook-cell:/c%3A/Users/Naofel/Documents/ESIREM/5A/Systeme_informations_avances/TP/TCHAI-NAOFEL-EL-ALOUANI-ALLAN-COUTAREL/tests/tests.ipynb#X24sZmlsZQ%3D%3D?line=2'>3</a>\u001b[0m \u001b[39mprint\u001b[39m(transaction)\n",
      "File \u001b[1;32mc:\\Users\\Naofel\\Documents\\ESIREM\\5A\\Systeme_informations_avances\\TP\\TCHAI-NAOFEL-EL-ALOUANI-ALLAN-COUTAREL\\services\\transaction_service.py:36\u001b[0m, in \u001b[0;36mTransactionService.get_transaction\u001b[1;34m(self, transaction_id)\u001b[0m\n\u001b[0;32m     34\u001b[0m \u001b[39mself\u001b[39m\u001b[39m.\u001b[39mcursor\u001b[39m.\u001b[39mexecute(\u001b[39m\"\u001b[39m\u001b[39mSELECT * FROM transactions WHERE id = ?\u001b[39m\u001b[39m\"\u001b[39m, (transaction_id,))\n\u001b[0;32m     35\u001b[0m transaction \u001b[39m=\u001b[39m \u001b[39mself\u001b[39m\u001b[39m.\u001b[39mcursor\u001b[39m.\u001b[39mfetchone()\n\u001b[1;32m---> 36\u001b[0m \u001b[39mreturn\u001b[39;00m \u001b[39mself\u001b[39;49m\u001b[39m.\u001b[39;49mget_transaction_from_tuple(transaction)\n",
      "File \u001b[1;32mc:\\Users\\Naofel\\Documents\\ESIREM\\5A\\Systeme_informations_avances\\TP\\TCHAI-NAOFEL-EL-ALOUANI-ALLAN-COUTAREL\\services\\transaction_service.py:108\u001b[0m, in \u001b[0;36mTransactionService.get_transaction_from_tuple\u001b[1;34m(self, tuple)\u001b[0m\n\u001b[0;32m    106\u001b[0m Person1 \u001b[39m=\u001b[39m person_service\u001b[39m.\u001b[39mget_person(\u001b[39mtuple\u001b[39m[\u001b[39m1\u001b[39m])\n\u001b[0;32m    107\u001b[0m Person2 \u001b[39m=\u001b[39m person_service\u001b[39m.\u001b[39mget_person(\u001b[39mtuple\u001b[39m[\u001b[39m2\u001b[39m])\n\u001b[1;32m--> 108\u001b[0m \u001b[39mreturn\u001b[39;00m Transaction(\u001b[39mtuple\u001b[39;49m[\u001b[39m0\u001b[39;49m], Person1, Person2, \u001b[39mtuple\u001b[39;49m[\u001b[39m3\u001b[39;49m], \u001b[39mtuple\u001b[39;49m[\u001b[39m4\u001b[39;49m], \u001b[39mtuple\u001b[39;49m[\u001b[39m5\u001b[39;49m])\n",
      "File \u001b[1;32mc:\\Users\\Naofel\\Documents\\ESIREM\\5A\\Systeme_informations_avances\\TP\\TCHAI-NAOFEL-EL-ALOUANI-ALLAN-COUTAREL\\models\\transaction.py:19\u001b[0m, in \u001b[0;36mTransaction.__init__\u001b[1;34m(self, id, p1, p2, amount, time, hash)\u001b[0m\n\u001b[0;32m     17\u001b[0m         \u001b[39mself\u001b[39m\u001b[39m.\u001b[39mhash \u001b[39m=\u001b[39m \u001b[39mhash\u001b[39m\n\u001b[0;32m     18\u001b[0m     \u001b[39melse\u001b[39;00m:\n\u001b[1;32m---> 19\u001b[0m         \u001b[39mraise\u001b[39;00m \u001b[39mException\u001b[39;00m(\u001b[39m\"\u001b[39m\u001b[39mHashes do not match\u001b[39m\u001b[39m\"\u001b[39m)\n\u001b[0;32m     20\u001b[0m \u001b[39melse\u001b[39;00m:\n\u001b[0;32m     21\u001b[0m     \u001b[39mself\u001b[39m\u001b[39m.\u001b[39mhash \u001b[39m=\u001b[39m hashlib\u001b[39m.\u001b[39msha256(data)\u001b[39m.\u001b[39mhexdigest()\n",
      "\u001b[1;31mException\u001b[0m: Hashes do not match"
     ]
    }
   ],
   "source": [
    "# New transaction amount\n",
    "transaction = transaction_service.get_transaction(1)\n",
    "print(transaction)"
   ]
  },
  {
   "cell_type": "markdown",
   "metadata": {},
   "source": [
    "# Exercice 8: Attaquer le système en modifiant directement le fichier de données, en supprimant unetransaction. La possibilité de supprimer une transaction peut être très dangereuse, la suppression peut entraîner la double dépense [9]"
   ]
  },
  {
   "cell_type": "code",
   "execution_count": 8,
   "metadata": {},
   "outputs": [],
   "source": [
    "# Init\n",
    "\n",
    "person_service = PersonService()\n",
    "transaction_service = TransactionService()\n",
    "\n",
    "\n",
    "if person_service.is_persons_empty():\n",
    "    person_service.add_person(\"John\", \"Doe\", \"1990-01-01\", 1500.0)\n",
    "    person_service.add_person(\"Jane\", \"Dupont\", \"1990-01-01\", 780.0)\n",
    "if transaction_service.is_transactions_empty():\n",
    "    if not transaction_service.add_transaction(1, 2, 150.0):\n",
    "        raise Exception(\"Transaction failed\")"
   ]
  },
  {
   "cell_type": "code",
   "execution_count": 9,
   "metadata": {},
   "outputs": [],
   "source": [
    "transaction_service.delete_transaction(1)"
   ]
  }
 ],
 "metadata": {
  "kernelspec": {
   "display_name": "Python 3",
   "language": "python",
   "name": "python3"
  },
  "language_info": {
   "codemirror_mode": {
    "name": "ipython",
    "version": 3
   },
   "file_extension": ".py",
   "mimetype": "text/x-python",
   "name": "python",
   "nbconvert_exporter": "python",
   "pygments_lexer": "ipython3",
   "version": "3.9.13"
  }
 },
 "nbformat": 4,
 "nbformat_minor": 2
}
