{
 "cells": [
  {
   "cell_type": "markdown",
   "metadata": {},
   "source": [
    "# Exercice 4: Attaquer le système en modifiant directement le fichier de données, en changeant le montant d’une transaction.\n"
   ]
  },
  {
   "cell_type": "code",
   "execution_count": 23,
   "metadata": {},
   "outputs": [],
   "source": [
    "import os\n",
    "current_dir = os.getcwd()\n",
    "new_dir = current_dir.replace(\"\\\\tests\", \"\")\n",
    "os.chdir(new_dir)\n",
    "from services.transaction_service import TransactionService"
   ]
  },
  {
   "cell_type": "code",
   "execution_count": 26,
   "metadata": {},
   "outputs": [
    {
     "name": "stdout",
     "output_type": "stream",
     "text": [
      " 2023-11-13 21:36:58.939091 - (id: 1) John Doe 1350.0€ -> (id: 2) Jane Dupont 930.0€: 500.0€\n"
     ]
    }
   ],
   "source": [
    "# Old transaction value\n",
    "transaction_service = TransactionService()\n",
    "transaction = transaction_service.get_transaction(1)\n",
    "print(transaction)"
   ]
  },
  {
   "cell_type": "code",
   "execution_count": 29,
   "metadata": {},
   "outputs": [],
   "source": [
    "# Update transaction amount\n",
    "transaction.amount = 1000\n",
    "transaction_service.update_transaction(transaction)"
   ]
  },
  {
   "cell_type": "code",
   "execution_count": 30,
   "metadata": {},
   "outputs": [
    {
     "name": "stdout",
     "output_type": "stream",
     "text": [
      " 2023-11-13 21:36:58.939091 - (id: 1) John Doe 1350.0€ -> (id: 2) Jane Dupont 930.0€: 1000.0€\n"
     ]
    }
   ],
   "source": [
    "# New transaction value\n",
    "transaction = transaction_service.get_transaction(1)\n",
    "print(transaction)"
   ]
  },
  {
   "cell_type": "markdown",
   "metadata": {},
   "source": [
    "# Exercice 7. Vérifiez que l’attaque précédente ne fonctionne plus."
   ]
  },
  {
   "cell_type": "code",
   "execution_count": 31,
   "metadata": {},
   "outputs": [],
   "source": [
    "import os\n",
    "current_dir = os.getcwd()\n",
    "new_dir = current_dir.replace(\"\\\\tests\", \"\")\n",
    "os.chdir(new_dir)\n",
    "from services.transaction_service import TransactionService"
   ]
  },
  {
   "cell_type": "code",
   "execution_count": 32,
   "metadata": {},
   "outputs": [
    {
     "name": "stdout",
     "output_type": "stream",
     "text": [
      " 2023-11-13 21:36:58.939091 - (id: 1) John Doe 1350.0€ -> (id: 2) Jane Dupont 930.0€: 1000.0€\n"
     ]
    }
   ],
   "source": [
    "# Old transaction value\n",
    "transaction_service = TransactionService()\n",
    "transaction = transaction_service.get_transaction(1)\n",
    "print(transaction)"
   ]
  },
  {
   "cell_type": "code",
   "execution_count": 33,
   "metadata": {},
   "outputs": [],
   "source": [
    "# Update transaction amount\n",
    "transaction.amount = 1000\n",
    "transaction_service.update_transaction(transaction)"
   ]
  },
  {
   "cell_type": "code",
   "execution_count": 34,
   "metadata": {},
   "outputs": [
    {
     "name": "stdout",
     "output_type": "stream",
     "text": [
      " 2023-11-13 21:36:58.939091 - (id: 1) John Doe 1350.0€ -> (id: 2) Jane Dupont 930.0€: 1000.0€\n"
     ]
    }
   ],
   "source": [
    "# New transaction value\n",
    "transaction = transaction_service.get_transaction(1)\n",
    "print(transaction)"
   ]
  }
 ],
 "metadata": {
  "kernelspec": {
   "display_name": "Python 3",
   "language": "python",
   "name": "python3"
  },
  "language_info": {
   "codemirror_mode": {
    "name": "ipython",
    "version": 3
   },
   "file_extension": ".py",
   "mimetype": "text/x-python",
   "name": "python",
   "nbconvert_exporter": "python",
   "pygments_lexer": "ipython3",
   "version": "3.9.13"
  }
 },
 "nbformat": 4,
 "nbformat_minor": 2
}
